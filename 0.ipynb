{
 "cells": [
  {
   "cell_type": "markdown",
   "metadata": {},
   "source": [
    "🧠 MyGO: Make Your Goals Obvious\n",
    "\n",
    "MyGO is a deep learning model for prostate cancer MRI segmentation that avoids semantic confusion by selectively modeling key global features. It introduces a novel Pixel Fulcrum Module and integrates self-attention with Top-k selection to enhance feature interpretation while reducing computational redundancy. The architecture is built upon a U-KAN backbone and leverages KAN Layers for nonlinear semantic learning.\n",
    "\n",
    "🎯 Highlights\n",
    "\n",
    "Pixel Fulcrum Module: Learns sparse anchors to capture semantic context.\n",
    "\n",
    "Top-k Attention: Selects the most relevant anchor features.\n",
    "\n",
    "Focal Loss Integration: Addresses class imbalance in small lesion regions.\n",
    "\n",
    "U-KAN Framework: Strong modeling for high-order nonlinear features.\n",
    "\n",
    "SOTA Performance: Achieved 69.73% mIoU and 74.32% Dice on the PI-CAI dataset.\n",
    "\n",
    "![Model Architecture](fig4.png)\n",
    "\n",
    "| Method       | mIoU (%) | Dice (%) | Specificity (%) | FPR (%) |\n",
    "|--------------|----------|----------|-----------------|---------|\n",
    "| U-Net        | 24.00    | 35.64    | 99.57           | 0.43    |\n",
    "| RollingUnet  | 43.31    | 54.65    | 99.66           | 0.21    |\n",
    "| U-KAN        | 66.82    | 72.94    | 99.66           | 0.21    |\n",
    "| MyGO†        | 69.73    | 74.32    | 99.87           | 0.13    |\n"
   ]
  }
 ],
 "metadata": {
  "kernelspec": {
   "display_name": "Python 3.6.8 64-bit",
   "language": "python",
   "name": "python3"
  },
  "language_info": {
   "name": "python",
   "version": "3.6.8"
  },
  "orig_nbformat": 4,
  "vscode": {
   "interpreter": {
    "hash": "2df7b2b2910af6ac8d53e7925a697a71d26f7767f2730225e1bd3bd8edf046dc"
   }
  }
 },
 "nbformat": 4,
 "nbformat_minor": 2
}
